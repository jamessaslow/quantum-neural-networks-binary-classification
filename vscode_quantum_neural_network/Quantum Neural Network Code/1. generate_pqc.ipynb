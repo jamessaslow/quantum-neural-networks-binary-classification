{
 "cells": [
  {
   "cell_type": "markdown",
   "metadata": {},
   "source": [
    "# Making a Parameterized Quantum Circuit (PQC) in Qiskit\n",
    "\n",
    "### 1. generate_pqc.ipynb\n",
    "### James Saslow\n",
    "### 4/27/2024\n",
    "\n",
    "\n",
    "____________________________________________________________________________________________________\n",
    "\n",
    "\n",
    "This Jupyter Notebook constucts the Parameterized Quantum Circuit described in *Figure 1* in [1] in the Qiskit framework. Here, I prototype a PQC with 2 feature inputs $\\vec{x} = (x_{0},x_{1})$ and 4 model weights $\\vec{\\omega} = (\\omega_{0}, \\omega_{1}, \\omega_{2}, \\omega_{3})$.\n",
    "\n",
    "\n",
    "We start with encoding the unitary $U$. Recognizing that $U$ is a diagonal unitary with eigenvalues of phase $\\alpha_{i}$, I can accomplish a gate composition of $U$ using $X$-Gates and control-phase gates. I utilize **ParameterVector** from Qiskit to keep these $\\alpha_{i}$ values arbiitrary, so we can update them later on. Each $\\alpha_{i}$ is defined as a linear combination of elements in $\\vec{x}$ and $\\vec{\\omega}$. Then I apply the *U.control(1)* function to map $U$ to a *Controlled*-$U$ gate.\n",
    "\n",
    "After defining the *Controlled*-$U$ gate, I begin building the Parameterized Quantum Circuit by first applying a Hadamard to all qubits, then a *Controlled*-$U$ gate, where the classifier qubit is the control qubit and the computational qubits are the target qubits. After this, a Hadamard gate is applied to the classifier qubit, which acts as an activation function. Then, the classifier qubit is measured.\n",
    "\n",
    "The PQC is exported as a *.qpy* file called *parameterized_qc.qpy* to be later imported and used in *3.1 QNN_iris.ipynb*, *3.2 QNN_breast_cancer.ipynb*, and *QNN_MNIST.ipynb*.\n",
    "_____________________________________________________________________________\n",
    "\n",
    "[1] A. Daskin, “A simple quantum neural net with a periodic activation function,” 2018 IEEE International Conference on Systems, Man, and Cybernetics (SMC), Oct. 2018. doi:10.1109/smc.2018.00491 "
   ]
  },
  {
   "cell_type": "code",
   "execution_count": 1,
   "metadata": {},
   "outputs": [],
   "source": [
    "# Importing Packages\n",
    "from qiskit.circuit import Parameter\n",
    "from qiskit.quantum_info import Operator\n",
    "from qiskit.circuit import ParameterVector\n",
    "from qiskit.circuit.library import UnitaryGate\n",
    "from qiskit import QuantumCircuit, QuantumRegister, ClassicalRegister, transpile, qpy"
   ]
  },
  {
   "cell_type": "code",
   "execution_count": 2,
   "metadata": {},
   "outputs": [],
   "source": [
    "# Making a Parameterized Controlled - U Operation\n",
    "\n",
    "U = QuantumCircuit(2, name='U')\n",
    "# ===========================\n",
    "# Defining Parameters\n",
    "x     = ParameterVector('x', 2)\n",
    "omega = ParameterVector('w', 4)\n",
    "# ===========================\n",
    "# Phase Encoding on |00> State\n",
    "U.x(0)\n",
    "U.x(1)\n",
    "U.cp(x[0]*omega[0] + x[1]*omega[2] ,0,1)\n",
    "U.x(0)\n",
    "U.x(1)\n",
    "# ===========================\n",
    "# Phase Encoding on the |01> State\n",
    "U.x(0)\n",
    "U.cp(x[0]*omega[0] + x[1]*omega[3],0,1)\n",
    "U.x(0)\n",
    "# ===========================\n",
    "# Phase Encoding on the |10> State\n",
    "U.x(1)\n",
    "U.cp(x[0]*omega[1] + x[1] * omega[2],0,1)\n",
    "U.x(1)\n",
    "# ===========================\n",
    "# Phase Encoding on the |11> State\n",
    "U.cp(x[0]*omega[1] + x[1]*omega[3],0,1)\n",
    "# ===========================\n",
    "# Transpiling Circuit\n",
    "U = transpile(U)\n",
    "\n",
    "# ===========================\n",
    "# Mapping to Qiskit Gates\n",
    "\n",
    "# Mapping to 2 Qubit Unitary\n",
    "U_gate = U.to_gate()\n",
    "\n",
    "# Mapping to Control 2 Qubit Unitary\n",
    "CU_gate = U.control(1)"
   ]
  },
  {
   "cell_type": "code",
   "execution_count": 3,
   "metadata": {},
   "outputs": [
    {
     "data": {
      "text/html": [
       "<pre style=\"word-wrap: normal;white-space: pre;background: #fff0;line-height: 1.1;font-family: &quot;Courier New&quot;,Courier,monospace\">     ┌───┐                                                           ┌───┐»\n",
       "q_0: ┤ X ├─■───────────────────────────────■─────────────────────────┤ X ├»\n",
       "     ├───┤ │P(w[0]*x[0] + w[2]*x[1]) ┌───┐ │P(w[0]*x[0] + w[3]*x[1]) ├───┤»\n",
       "q_1: ┤ X ├─■─────────────────────────┤ X ├─■─────────────────────────┤ X ├»\n",
       "     └───┘                           └───┘                           └───┘»\n",
       "«                                                                \n",
       "«q_0: ─■───────────────────────────────■─────────────────────────\n",
       "«      │P(w[1]*x[0] + w[2]*x[1]) ┌───┐ │P(w[1]*x[0] + w[3]*x[1]) \n",
       "«q_1: ─■─────────────────────────┤ X ├─■─────────────────────────\n",
       "«                                └───┘                           </pre>"
      ],
      "text/plain": [
       "     ┌───┐                                                           ┌───┐»\n",
       "q_0: ┤ X ├─■───────────────────────────────■─────────────────────────┤ X ├»\n",
       "     ├───┤ │P(w[0]*x[0] + w[2]*x[1]) ┌───┐ │P(w[0]*x[0] + w[3]*x[1]) ├───┤»\n",
       "q_1: ┤ X ├─■─────────────────────────┤ X ├─■─────────────────────────┤ X ├»\n",
       "     └───┘                           └───┘                           └───┘»\n",
       "«                                                                \n",
       "«q_0: ─■───────────────────────────────■─────────────────────────\n",
       "«      │P(w[1]*x[0] + w[2]*x[1]) ┌───┐ │P(w[1]*x[0] + w[3]*x[1]) \n",
       "«q_1: ─■─────────────────────────┤ X ├─■─────────────────────────\n",
       "«                                └───┘                           "
      ]
     },
     "execution_count": 3,
     "metadata": {},
     "output_type": "execute_result"
    }
   ],
   "source": [
    "# Drawing the U Gate\n",
    "U.draw()"
   ]
  },
  {
   "cell_type": "code",
   "execution_count": 4,
   "metadata": {},
   "outputs": [
    {
     "data": {
      "image/png": "[encoded data removed]",
      "text/plain": [
       "<Figure size 454.719x284.278 with 1 Axes>"
      ]
     },
     "execution_count": 4,
     "metadata": {},
     "output_type": "execute_result"
    }
   ],
   "source": [
    "# Drawing the CU Gate\n",
    "CU_gate.draw(\"mpl\")"
   ]
  },
  {
   "cell_type": "code",
   "execution_count": 5,
   "metadata": {},
   "outputs": [
    {
     "data": {
      "image/png": "[encoded data removed]",
      "text/plain": [
       "<Figure size 705.35x367.889 with 1 Axes>"
      ]
     },
     "execution_count": 5,
     "metadata": {},
     "output_type": "execute_result"
    }
   ],
   "source": [
    "# Constructing the Parameterized Quantum Circuit\n",
    "\n",
    "# ===============================================\n",
    "# Specifying number of qubits in each register\n",
    "\n",
    "num_classifier_qubits    = 1\n",
    "num_computational_qubits = 2\n",
    "num_qubits = num_classifier_qubits + num_computational_qubits\n",
    "\n",
    "# ===============================================\n",
    "# Initializing Registers & Quantum Circuit\n",
    "\n",
    "q_class =  QuantumRegister(num_classifier_qubits   , name = 'Q')\n",
    "q_comp  =  QuantumRegister(num_computational_qubits, name = 'q')\n",
    "c       =  ClassicalRegister(1, name = 'c')\n",
    "qc      =  QuantumCircuit(q_class,q_comp,c,name = 'qc')\n",
    "\n",
    "# ===============================================\n",
    "# Prototyping Quantum Gates\n",
    "\n",
    "# Classifier Qubit gets initialized by a Hadamard\n",
    "qc.h(q_class[0])\n",
    "\n",
    "# Choosing our computational qubits to start in the equal coherent superposition state\n",
    "qc.h(q_comp[0])\n",
    "qc.h(q_comp[1])\n",
    "\n",
    "# Applying a control Unitary\n",
    "qc.append(CU_gate,[q_class[0],q_comp[0],q_comp[1]])\n",
    "\n",
    "# Applying the Hadamard on classifier qubit as an activation function\n",
    "qc.h(q_class[0])\n",
    "\n",
    "\n",
    "# Measuring The Classifier Qubit\n",
    "qc.measure(q_class[0], c[0])\n",
    "\n",
    "# ===============================================\n",
    "# Drawing Quantum Circuit\n",
    "qc.draw(\"mpl\")"
   ]
  },
  {
   "cell_type": "code",
   "execution_count": 6,
   "metadata": {},
   "outputs": [],
   "source": [
    "# Exporting the Parameterized Quantum Circuit 'qc' as a .qpy file\n",
    "\n",
    "with open(\"parameterized_qc.qpy\", \"wb\") as qpy_file_write:\n",
    "    qpy.dump(qc, qpy_file_write)"
   ]
  },
  {
   "cell_type": "code",
   "execution_count": null,
   "metadata": {},
   "outputs": [],
   "source": []
  }
 ],
 "metadata": {
  "kernelspec": {
   "display_name": "base",
   "language": "python",
   "name": "python3"
  },
  "language_info": {
   "codemirror_mode": {
    "name": "ipython",
    "version": 3
   },
   "file_extension": ".py",
   "mimetype": "text/x-python",
   "name": "python",
   "nbconvert_exporter": "python",
   "pygments_lexer": "ipython3",
   "version": "3.11.7"
  }
 },
 "nbformat": 4,
 "nbformat_minor": 2
}
